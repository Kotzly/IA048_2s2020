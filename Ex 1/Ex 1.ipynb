{
 "cells": [
  {
   "cell_type": "code",
   "execution_count": 1,
   "metadata": {},
   "outputs": [],
   "source": [
    "import pandas as pd\n",
    "import numpy as np\n",
    "from sklearn.model_selection import KFold, GridSearchCV\n",
    "from sklearn.base import BaseEstimator\n",
    "from sklearn.metrics import mean_squared_error, make_scorer\n",
    "import matplotlib.pyplot as plt\n",
    "from sklearn.preprocessing import MinMaxScaler, StandardScaler\n",
    "%matplotlib inline"
   ]
  },
  {
   "cell_type": "code",
   "execution_count": 2,
   "metadata": {},
   "outputs": [
    {
     "data": {
      "text/html": [
       "<div>\n",
       "<style scoped>\n",
       "    .dataframe tbody tr th:only-of-type {\n",
       "        vertical-align: middle;\n",
       "    }\n",
       "\n",
       "    .dataframe tbody tr th {\n",
       "        vertical-align: top;\n",
       "    }\n",
       "\n",
       "    .dataframe thead th {\n",
       "        text-align: right;\n",
       "    }\n",
       "</style>\n",
       "<table border=\"1\" class=\"dataframe\">\n",
       "  <thead>\n",
       "    <tr style=\"text-align: right;\">\n",
       "      <th></th>\n",
       "      <th>Date</th>\n",
       "      <th>sunspots</th>\n",
       "      <th>Year</th>\n",
       "      <th>Month</th>\n",
       "      <th>Day</th>\n",
       "    </tr>\n",
       "  </thead>\n",
       "  <tbody>\n",
       "    <tr>\n",
       "      <th>0</th>\n",
       "      <td>1749-01-31</td>\n",
       "      <td>96.7</td>\n",
       "      <td>1749</td>\n",
       "      <td>1</td>\n",
       "      <td>31</td>\n",
       "    </tr>\n",
       "    <tr>\n",
       "      <th>1</th>\n",
       "      <td>1749-02-28</td>\n",
       "      <td>104.3</td>\n",
       "      <td>1749</td>\n",
       "      <td>2</td>\n",
       "      <td>28</td>\n",
       "    </tr>\n",
       "    <tr>\n",
       "      <th>2</th>\n",
       "      <td>1749-03-31</td>\n",
       "      <td>116.7</td>\n",
       "      <td>1749</td>\n",
       "      <td>3</td>\n",
       "      <td>31</td>\n",
       "    </tr>\n",
       "  </tbody>\n",
       "</table>\n",
       "</div>"
      ],
      "text/plain": [
       "         Date  sunspots  Year  Month  Day\n",
       "0  1749-01-31      96.7  1749      1   31\n",
       "1  1749-02-28     104.3  1749      2   28\n",
       "2  1749-03-31     116.7  1749      3   31"
      ]
     },
     "execution_count": 2,
     "metadata": {},
     "output_type": "execute_result"
    }
   ],
   "source": [
    "data = pd.read_csv(\"monthly-sunspots.csv\", index_col=0)\n",
    "get_index = lambda x: lambda date: int(date.split(\"-\")[x])\n",
    "data.rename(columns={\"Monthly Mean Total Sunspot Number\": \"sunspots\"}, inplace=True)\n",
    "data[\"Year\"] = data.Date.apply(get_index(0))\n",
    "data[\"Month\"] = data.Date.apply(get_index(1))\n",
    "data[\"Day\"] = data.Date.apply(get_index(2))\n",
    "data.head(3)"
   ]
  },
  {
   "cell_type": "code",
   "execution_count": 3,
   "metadata": {},
   "outputs": [
    {
     "name": "stdout",
     "output_type": "stream",
     "text": [
      "Treino: 3132 amostras.\n",
      "Teste: 120 amostras.\n"
     ]
    }
   ],
   "source": [
    "train_split = data.query(\"Year < 2010\").sunspots.values.reshape(-1, 1)\n",
    "test_split = data.query(\"Year >= 2010\").sunspots.values.reshape(-1, 1)\n",
    "print(\"Treino:\", len(train_split), \"amostras.\")\n",
    "print(\"Teste:\", len(test_split), \"amostras.\")"
   ]
  },
  {
   "cell_type": "markdown",
   "metadata": {},
   "source": [
    "Temos 3132 amostras, então contanto que K seja menor que 3131 não precisaremos usar o Lagrangiano e poderemos utilizar mínimos quadrados."
   ]
  },
  {
   "cell_type": "code",
   "execution_count": 4,
   "metadata": {},
   "outputs": [],
   "source": [
    "MSE = make_scorer(mean_squared_error)\n",
    "\n",
    "class AutoregressiveEstimator(BaseEstimator):\n",
    "    def __init__(self, K=1, use_only_existing=False):\n",
    "        self.K = K\n",
    "        self.use_only_existing = use_only_existing\n",
    "    \n",
    "    def get_params(self, deep=None):\n",
    "        return {\n",
    "            \"K\": self.K\n",
    "        }\n",
    "    \n",
    "    def set_params(self, **params):\n",
    "        self.K = params.get(\"K\", self.K)\n",
    "        return self\n",
    "    \n",
    "    def create_features(self, x):\n",
    "        x = x.flatten()\n",
    "        # Create placeholder\n",
    "        x_ = np.zeros((len(x), self.K))\n",
    "        # Take past values of x\n",
    "        for i in range(1, self.K + 1):\n",
    "            x_[i:, i - 1] = x[:-i]\n",
    "        # Use only past values\n",
    "        if self.use_only_existing:\n",
    "            x_ = x_[self.K:]\n",
    "        # Bias input\n",
    "        x = self.concat_bias_column(x_)\n",
    "        return x\n",
    "    \n",
    "    def concat_bias_column(self, x):\n",
    "        bias = np.ones((len(x), 1))\n",
    "        x = np.concatenate([bias, x], axis=1)\n",
    "        return x\n",
    "    \n",
    "    def create_labels(self, x):\n",
    "        if self.use_only_existing:\n",
    "            return x[self.K:]\n",
    "        return x\n",
    "    \n",
    "    def fit(self, x, y=None):\n",
    "        y = self.create_labels(x)\n",
    "        x = self.create_features(x)\n",
    "        rank = np.linalg.matrix_rank(x[:, 1:])\n",
    "        \n",
    "        # Check the rank to make sure that x.T*x is invertible\n",
    "        assert rank == self.K, f\"Rank is {rank}, less than K\"\n",
    "        A = np.linalg.inv(np.matmul(x.T, x))\n",
    "        B = np.matmul(x.T, y)\n",
    "        self.W = np.matmul(A, B)\n",
    "        return self\n",
    "    \n",
    "    def score(self, x, y=None):\n",
    "        y = self.create_labels(x)\n",
    "        \n",
    "        # Using the RMSE function as a scoring function (minimizing -1 times the RMSE equals minimizing the RMSE)\n",
    "        return - mean_squared_error(y, self.predict(x), squared=False)\n",
    "        \n",
    "    def predict(self, x):\n",
    "        x = self.create_features(x)\n",
    "        return np.matmul(x, self.W)\n",
    "K_range = range(1, 24 + 1)\n",
    "grid_search = GridSearchCV(AutoregressiveEstimator(), param_grid={\"K\": K_range}, cv=5)"
   ]
  },
  {
   "cell_type": "code",
   "execution_count": 5,
   "metadata": {},
   "outputs": [
    {
     "name": "stdout",
     "output_type": "stream",
     "text": [
      "Features used [[  1.    0.    0.    0. ]\n",
      " [  1.   96.7   0.    0. ]\n",
      " [  1.  104.3  96.7   0. ]\n",
      " [  1.  116.7 104.3  96.7]\n",
      " [  1.   92.8 116.7 104.3]]\n",
      "Labels used [[ 96.7]\n",
      " [104.3]\n",
      " [116.7]\n",
      " [ 92.8]\n",
      " [141.7]]\n"
     ]
    }
   ],
   "source": [
    "model = AutoregressiveEstimator(K=3)\n",
    "created = model.create_features(train_split)[:5]\n",
    "labels = train_split[:5]\n",
    "print(\"Features used\", created)\n",
    "print(\"Labels used\", labels)"
   ]
  },
  {
   "cell_type": "code",
   "execution_count": 6,
   "metadata": {},
   "outputs": [
    {
     "data": {
      "text/plain": [
       "GridSearchCV(cv=5, error_score=nan, estimator=AutoregressiveEstimator(K=1),\n",
       "             iid='deprecated', n_jobs=None, param_grid={'K': range(1, 25)},\n",
       "             pre_dispatch='2*n_jobs', refit=True, return_train_score=False,\n",
       "             scoring=None, verbose=0)"
      ]
     },
     "execution_count": 6,
     "metadata": {},
     "output_type": "execute_result"
    }
   ],
   "source": [
    "grid_search.fit(train_split, y=None)"
   ]
  },
  {
   "cell_type": "code",
   "execution_count": 7,
   "metadata": {},
   "outputs": [
    {
     "name": "stdout",
     "output_type": "stream",
     "text": [
      "Best RMSE: 25.88700357629449\n",
      "Best K: 0\n"
     ]
    },
    {
     "data": {
      "image/png": "[encoded data removed]",
      "text/plain": [
       "<Figure size 864x288 with 1 Axes>"
      ]
     },
     "metadata": {
      "needs_background": "light"
     },
     "output_type": "display_data"
    }
   ],
   "source": [
    "model = grid_search.best_estimator_\n",
    "K = grid_search.best_params_[\"K\"]\n",
    "K = K if model.use_only_existing else 0\n",
    "best_rmse = - grid_search.best_score_\n",
    "plt.figure(figsize=(12, 4))\n",
    "plt.plot(train_split)\n",
    "plt.plot(range(K, len(train_split)), model.predict(train_split))\n",
    "plt.xlim([0, 1000])\n",
    "print(\"Best RMSE:\", best_rmse)\n",
    "print(\"Best K:\", K)"
   ]
  },
  {
   "cell_type": "code",
   "execution_count": 8,
   "metadata": {},
   "outputs": [
    {
     "name": "stdout",
     "output_type": "stream",
     "text": [
      "Best RMSE: 25.88700357629449\n"
     ]
    },
    {
     "data": {
      "image/png": "[encoded data removed]",
      "text/plain": [
       "<Figure size 432x288 with 1 Axes>"
      ]
     },
     "metadata": {
      "needs_background": "light"
     },
     "output_type": "display_data"
    }
   ],
   "source": [
    "K_values = [params[\"K\"] for params in grid_search.cv_results_[\"params\"]]\n",
    "plt.plot(K_values, grid_search.cv_results_[\"mean_test_score\"])\n",
    "print(\"Best RMSE:\", -grid_search.best_score_)"
   ]
  },
  {
   "cell_type": "markdown",
   "metadata": {},
   "source": [
    "## Parte 2"
   ]
  },
  {
   "cell_type": "code",
   "execution_count": 9,
   "metadata": {},
   "outputs": [],
   "source": [
    "from sklearn.metrics import mean_squared_error, make_scorer\n",
    "from functools import partial\n",
    "\n",
    "class AutoregressiveELMRidgeEstimator(AutoregressiveEstimator):\n",
    "    def __init__(self, K=20, T=20, alpha=1e-3, use_only_existing=False, seed=4, scaler=None):\n",
    "        self.K = K\n",
    "        self.T = T\n",
    "        self.use_only_existing = use_only_existing\n",
    "        self.scaler = scaler\n",
    "        self.seed = seed\n",
    "        self.alpha = alpha\n",
    "        self.verbose=False\n",
    "\n",
    "    def get_params(self, deep=None):\n",
    "        return {\n",
    "            \"K\": self.K,\n",
    "            \"T\": self.T,\n",
    "            \"alpha\": self.alpha,\n",
    "            \"scaler\": self.scaler\n",
    "        }\n",
    "    \n",
    "    def set_params(self, **params):\n",
    "        self.K = params.get(\"K\", self.K)\n",
    "        self.T = params.get(\"T\", self.T)\n",
    "        self.alpha = params.get(\"alpha\", self.alpha)\n",
    "        self.scaler = params.get(\"scaler\", self.scaler)\n",
    "        return self\n",
    "    \n",
    "    def create_elm_weights(self):\n",
    "        np.random.seed(self.seed)\n",
    "        # Transformation weights are initialized with a random uniform distribution.\n",
    "        self.ELM_weights = np.random.rand(self.T, self.K)\n",
    "        \n",
    "    def create_labels(self, x):\n",
    "        if self.scaler:\n",
    "            x = self.scaler.transform(x)\n",
    "        if self.use_only_existing:\n",
    "            return x[self.K:]\n",
    "        return x\n",
    "    \n",
    "    def create_features(self, x):\n",
    "        if self.scaler:\n",
    "            x = self.scaler.transform(x)\n",
    "        x = x.flatten()\n",
    "        # Create placeholder\n",
    "        x_ = np.zeros((len(x), self.K))\n",
    "        # Take K past values of x\n",
    "        for i in range(1, self.K + 1):\n",
    "            x_[i:, i - 1] = x[:-i]\n",
    "        # Use only past values\n",
    "        if self.use_only_existing:\n",
    "            x_ = x_[self.K:]\n",
    "\n",
    "        # Project them into random feature space\n",
    "        if self.T:\n",
    "            a = x_.copy()\n",
    "            x_ = np.matmul(self.ELM_weights, x_.T).T\n",
    "            x_ = np.tanh(x_)\n",
    "            assert (x_.max() < 0.8) and (x_.min() > -0.8), \"Max: {} | Min: {}\".format(x_.max(), x_.min())\n",
    "        # Bias input\n",
    "        # x = self.concat_bias_column(x_)\n",
    "        if self.verbose:\n",
    "            print(\"CREATED\", x_.max(), x_.min())\n",
    "        return x_\n",
    "    \n",
    "    def identity_prime(self):\n",
    "        size = self.T if self.T else self.K\n",
    "        ip = np.identity(size)\n",
    "        ip[0, 0] = 0\n",
    "        return ip\n",
    "    \n",
    "    def fit(self, x, y=None):\n",
    "        self.create_elm_weights()\n",
    "        if self.scaler is not None:\n",
    "            self.scaler.fit(x.reshape(-1, 1))\n",
    "        \n",
    "        y = self.create_labels(x)\n",
    "        x = self.create_features(x)\n",
    "        A = np.linalg.inv(np.matmul(x.T, x) + self.alpha*self.identity_prime())\n",
    "        B = np.matmul(x.T, y)\n",
    "        self.W = np.matmul(A, B)\n",
    "        return self\n",
    "    \n",
    "    def score(self, x, y=None):\n",
    "        y = self.scaler.inverse_transform(self.create_labels(x))\n",
    "        pred = self.predict(x)\n",
    "        return - mean_squared_error(y, pred, squared=False)\n",
    "        \n",
    "        \n",
    "    def set_verbose(self):\n",
    "        self.verbose=True\n",
    "    \n",
    "    def predict(self, x):\n",
    "        x = self.create_features(x)\n",
    "        pred = np.matmul(x, self.W)\n",
    "        if self.scaler:\n",
    "            pred = self.scaler.inverse_transform(pred)\n",
    "        return pred"
   ]
  },
  {
   "cell_type": "markdown",
   "metadata": {},
   "source": [
    "Data is scaled between -1/K and 1/K because in the matrix multiplication:"
   ]
  },
  {
   "attachments": {
    "image.png": {
     "image/png": "[encoded data removed]"
    }
   },
   "cell_type": "markdown",
   "metadata": {},
   "source": [
    "![image.png](attachment:image.png)"
   ]
  },
  {
   "cell_type": "markdown",
   "metadata": {},
   "source": [
    "The values of $w_k^Tx(n)$ will be bounded between 1/K * K = 1, so the value of the elements in $tanh(w_k^Tx(n))$ will be bounded between $-0.7616$ and $0.7616$, and the $tanh$ function will not \"saturate\"."
   ]
  },
  {
   "cell_type": "markdown",
   "metadata": {},
   "source": [
    "We will use a 5-fold cross validation scheme, and the values of alpha will vary from $10^{-10}$ to $10^{10}$, in a geometric progression."
   ]
  },
  {
   "cell_type": "code",
   "execution_count": 10,
   "metadata": {},
   "outputs": [
    {
     "name": "stderr",
     "output_type": "stream",
     "text": [
      "100%|████████████████████████████████████████████████████████████████████████████████| 100/100 [02:21<00:00,  1.41s/it]\n"
     ]
    }
   ],
   "source": [
    "from sklearn.preprocessing import MinMaxScaler\n",
    "import tqdm\n",
    "\n",
    "results = []\n",
    "\n",
    "# K is fixed in 8\n",
    "K = 8\n",
    "\n",
    "T_vector = np.arange(1, 100 + 1, 1)\n",
    "\n",
    "scaler = MinMaxScaler(feature_range=(-1/K, 1/K))\n",
    "\n",
    "# For each T from 1 to 100...\n",
    "for t in tqdm.tqdm(T_vector):\n",
    "\n",
    "    grid_search = GridSearchCV(\n",
    "        AutoregressiveELMRidgeEstimator(scaler=scaler, seed=111),\n",
    "        param_grid={\n",
    "            \"K\": [K],\n",
    "            \"T\": [t],\n",
    "            \"alpha\": np.logspace(-10, 10, 50)\n",
    "        },\n",
    "        cv=5,\n",
    "        verbose=0,\n",
    "        n_jobs=3,\n",
    "        refit=True\n",
    "    )\n",
    "    grid_search.fit(train_split, y=None)\n",
    "    \n",
    "    # Saving the results\n",
    "    result = {\n",
    "        \"score\": grid_search.best_score_,\n",
    "        \"alpha\": grid_search.best_params_[\"alpha\"],\n",
    "        \"T\": t,\n",
    "        \"K\": K,\n",
    "        \"model\": grid_search.best_estimator_\n",
    "    }\n",
    "    plt.show()\n",
    "    results.append(result)"
   ]
  },
  {
   "cell_type": "code",
   "execution_count": 15,
   "metadata": {},
   "outputs": [
    {
     "name": "stdout",
     "output_type": "stream",
     "text": [
      "Best RMSE: 25.904712666706537\n"
     ]
    },
    {
     "data": {
      "image/png": "[encoded data removed]",
      "text/plain": [
       "<Figure size 1152x288 with 2 Axes>"
      ]
     },
     "metadata": {
      "needs_background": "light"
     },
     "output_type": "display_data"
    }
   ],
   "source": [
    "import pandas as pd\n",
    "import seaborn as sns\n",
    "\n",
    "results_dataframe = pd.DataFrame(results)\n",
    "\n",
    "_, (ax1, ax2) = plt.subplots(1, 2, figsize=(16, 4))\n",
    "sns.lineplot(data=results_dataframe, x=\"T\", y=\"alpha\", ax=ax1)\n",
    "ax1.set_yscale(\"log\")\n",
    "sns.lineplot(data=results_dataframe, x=\"T\", y=\"score\", ax=ax2)\n",
    "\n",
    "ax1.set_title(\"T vs Alpha\")\n",
    "ax2.set_title(\"T vs RMSE\")\n",
    "plt.grid()\n",
    "\n",
    "print(\"Best RMSE:\", -grid_search.best_score_)"
   ]
  },
  {
   "cell_type": "code",
   "execution_count": 16,
   "metadata": {},
   "outputs": [
    {
     "data": {
      "text/html": [
       "<div>\n",
       "<style scoped>\n",
       "    .dataframe tbody tr th:only-of-type {\n",
       "        vertical-align: middle;\n",
       "    }\n",
       "\n",
       "    .dataframe tbody tr th {\n",
       "        vertical-align: top;\n",
       "    }\n",
       "\n",
       "    .dataframe thead th {\n",
       "        text-align: right;\n",
       "    }\n",
       "</style>\n",
       "<table border=\"1\" class=\"dataframe\">\n",
       "  <thead>\n",
       "    <tr style=\"text-align: right;\">\n",
       "      <th></th>\n",
       "      <th>score</th>\n",
       "      <th>alpha</th>\n",
       "      <th>T</th>\n",
       "      <th>K</th>\n",
       "      <th>model</th>\n",
       "    </tr>\n",
       "  </thead>\n",
       "  <tbody>\n",
       "    <tr>\n",
       "      <th>27</th>\n",
       "      <td>-25.880405</td>\n",
       "      <td>0.000020</td>\n",
       "      <td>28</td>\n",
       "      <td>8</td>\n",
       "      <td>AutoregressiveELMRidgeEstimator(K=8, T=28, alp...</td>\n",
       "    </tr>\n",
       "    <tr>\n",
       "      <th>29</th>\n",
       "      <td>-25.882039</td>\n",
       "      <td>0.000020</td>\n",
       "      <td>30</td>\n",
       "      <td>8</td>\n",
       "      <td>AutoregressiveELMRidgeEstimator(K=8, T=30, alp...</td>\n",
       "    </tr>\n",
       "    <tr>\n",
       "      <th>21</th>\n",
       "      <td>-25.882101</td>\n",
       "      <td>0.000052</td>\n",
       "      <td>22</td>\n",
       "      <td>8</td>\n",
       "      <td>AutoregressiveELMRidgeEstimator(K=8, T=22, alp...</td>\n",
       "    </tr>\n",
       "    <tr>\n",
       "      <th>28</th>\n",
       "      <td>-25.882198</td>\n",
       "      <td>0.000020</td>\n",
       "      <td>29</td>\n",
       "      <td>8</td>\n",
       "      <td>AutoregressiveELMRidgeEstimator(K=8, T=29, alp...</td>\n",
       "    </tr>\n",
       "    <tr>\n",
       "      <th>26</th>\n",
       "      <td>-25.883899</td>\n",
       "      <td>0.000020</td>\n",
       "      <td>27</td>\n",
       "      <td>8</td>\n",
       "      <td>AutoregressiveELMRidgeEstimator(K=8, T=27, alp...</td>\n",
       "    </tr>\n",
       "  </tbody>\n",
       "</table>\n",
       "</div>"
      ],
      "text/plain": [
       "        score     alpha   T  K  \\\n",
       "27 -25.880405  0.000020  28  8   \n",
       "29 -25.882039  0.000020  30  8   \n",
       "21 -25.882101  0.000052  22  8   \n",
       "28 -25.882198  0.000020  29  8   \n",
       "26 -25.883899  0.000020  27  8   \n",
       "\n",
       "                                                model  \n",
       "27  AutoregressiveELMRidgeEstimator(K=8, T=28, alp...  \n",
       "29  AutoregressiveELMRidgeEstimator(K=8, T=30, alp...  \n",
       "21  AutoregressiveELMRidgeEstimator(K=8, T=22, alp...  \n",
       "28  AutoregressiveELMRidgeEstimator(K=8, T=29, alp...  \n",
       "26  AutoregressiveELMRidgeEstimator(K=8, T=27, alp...  "
      ]
     },
     "execution_count": 16,
     "metadata": {},
     "output_type": "execute_result"
    }
   ],
   "source": [
    "results_dataframe.sort_values(by=\"score\", ascending=False).head()"
   ]
  },
  {
   "cell_type": "code",
   "execution_count": 17,
   "metadata": {},
   "outputs": [],
   "source": [
    "best_model = results_dataframe.sort_values(by=\"score\", ascending=False)[\"model\"].head(1).item()"
   ]
  },
  {
   "cell_type": "code",
   "execution_count": 18,
   "metadata": {},
   "outputs": [
    {
     "name": "stdout",
     "output_type": "stream",
     "text": [
      "Test RMSE: 25.580802242582198\n"
     ]
    }
   ],
   "source": [
    "test_rmse = best_model.score(test_split)\n",
    "print(\"Test RMSE:\", -test_rmse)"
   ]
  },
  {
   "cell_type": "code",
   "execution_count": null,
   "metadata": {},
   "outputs": [],
   "source": []
  }
 ],
 "metadata": {
  "kernelspec": {
   "display_name": "Python 3",
   "language": "python",
   "name": "python3"
  },
  "language_info": {
   "codemirror_mode": {
    "name": "ipython",
    "version": 3
   },
   "file_extension": ".py",
   "mimetype": "text/x-python",
   "name": "python",
   "nbconvert_exporter": "python",
   "pygments_lexer": "ipython3",
   "version": "3.7.6"
  }
 },
 "nbformat": 4,
 "nbformat_minor": 2
}
